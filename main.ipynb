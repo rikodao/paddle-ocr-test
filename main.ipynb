{
 "cells": [
  {
   "cell_type": "code",
   "execution_count": null,
   "id": "e3c1b085-13b7-4cc9-a75f-e190e546ba41",
   "metadata": {},
   "outputs": [],
   "source": [
    "%cd /home/jovyan/work"
   ]
  },
  {
   "cell_type": "code",
   "execution_count": null,
   "id": "6a277611-cc3f-4e96-8d2f-05abda9722d5",
   "metadata": {},
   "outputs": [],
   "source": [
    "!pip install -q paddlepaddle"
   ]
  },
  {
   "cell_type": "code",
   "execution_count": null,
   "id": "0ff7159a-4ae0-4687-9afd-3baa2e7d6c9b",
   "metadata": {},
   "outputs": [],
   "source": [
    "img_path = './id.jpg'"
   ]
  },
  {
   "cell_type": "code",
   "execution_count": null,
   "id": "f8decf35-4fb3-4590-957b-f1aca44ae348",
   "metadata": {},
   "outputs": [],
   "source": [
    "from paddleocr import PaddleOCR,draw_ocr\n",
    "ocr = PaddleOCR(use_angle_cls=True, lang='japan') # need to run only once to download and load model into memory\n",
    "result = ocr.ocr(img_path, cls=True)\n",
    "for idx in range(len(result)):\n",
    "    res = result[idx]\n",
    "    for line in res:\n",
    "        text = line[1][0]\n",
    "        if (text.startswith('令和') or text.startswith('平成') or text.startswith('昭和')) and  '月' in text and   '日' in text :\n",
    "            print(\"誕生日：\" + text)\n",
    "        if  any(prefecture in text for prefecture in ['北海道', '青森県', '岩手県', '宮城県', '秋田県', '山形県', '福島県', '茨城県', '栃木県', '群馬県', '埼玉県', '千葉県', '東京都', '神奈川県', '新潟県', '富山県', '石川県', '福井県', '山梨県', '長野県', '岐阜県', '静岡県', '愛知県', '三重県', '滋賀県', '京都府', '大阪府', '兵庫県', '奈良県', '和歌山県', '鳥取県', '島根県', '岡山県', '広島県', '山口県', '徳島県', '香川県', '愛媛県', '高知県', '福岡県', '佐賀県', '長崎県', '熊本県', '大分県', '宮崎県', '鹿児島県', '沖縄県']) and len(text)>9:\n",
    "            print(\"住所：\" + text)\n"
   ]
  },
  {
   "cell_type": "code",
   "execution_count": null,
   "id": "1d1ed60b-480e-4831-b128-94425d994f8a",
   "metadata": {},
   "outputs": [],
   "source": []
  }
 ],
 "metadata": {
  "kernelspec": {
   "display_name": "Python 3 (ipykernel)",
   "language": "python",
   "name": "python3"
  },
  "language_info": {
   "codemirror_mode": {
    "name": "ipython",
    "version": 3
   },
   "file_extension": ".py",
   "mimetype": "text/x-python",
   "name": "python",
   "nbconvert_exporter": "python",
   "pygments_lexer": "ipython3",
   "version": "3.11.6"
  }
 },
 "nbformat": 4,
 "nbformat_minor": 5
}
